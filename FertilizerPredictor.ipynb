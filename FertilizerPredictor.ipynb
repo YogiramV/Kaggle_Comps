{
 "cells": [
  {
   "cell_type": "code",
   "execution_count": 1,
   "id": "30526da2",
   "metadata": {
    "_cell_guid": "b1076dfc-b9ad-4769-8c92-a6c4dae69d19",
    "_uuid": "8f2839f25d086af736a60e9eeb907d3b93b6e0e5",
    "execution": {
     "iopub.execute_input": "2025-06-13T16:33:03.546319Z",
     "iopub.status.busy": "2025-06-13T16:33:03.545885Z",
     "iopub.status.idle": "2025-06-13T16:33:05.952688Z",
     "shell.execute_reply": "2025-06-13T16:33:05.951418Z"
    },
    "papermill": {
     "duration": 2.413621,
     "end_time": "2025-06-13T16:33:05.954718",
     "exception": false,
     "start_time": "2025-06-13T16:33:03.541097",
     "status": "completed"
    },
    "tags": []
   },
   "outputs": [
    {
     "name": "stdout",
     "output_type": "stream",
     "text": [
      "/kaggle/input/playground-series-s5e6/sample_submission.csv\n",
      "/kaggle/input/playground-series-s5e6/train.csv\n",
      "/kaggle/input/playground-series-s5e6/test.csv\n"
     ]
    }
   ],
   "source": [
    "# This Python 3 environment comes with many helpful analytics libraries installed\n",
    "# It is defined by the kaggle/python Docker image: https://github.com/kaggle/docker-python\n",
    "# For example, here's several helpful packages to load\n",
    "\n",
    "import numpy as np # linear algebra\n",
    "import pandas as pd # data processing, CSV file I/O (e.g. pd.read_csv)\n",
    "\n",
    "# Input data files are available in the read-only \"../input/\" directory\n",
    "# For example, running this (by clicking run or pressing Shift+Enter) will list all files under the input directory\n",
    "\n",
    "import os\n",
    "for dirname, _, filenames in os.walk('/kaggle/input'):\n",
    "    for filename in filenames:\n",
    "        print(os.path.join(dirname, filename))\n",
    "\n",
    "# You can write up to 20GB to the current directory (/kaggle/working/) that gets preserved as output when you create a version using \"Save & Run All\" \n",
    "# You can also write temporary files to /kaggle/temp/, but they won't be saved outside of the current session"
   ]
  },
  {
   "cell_type": "code",
   "execution_count": 2,
   "id": "b0267088",
   "metadata": {
    "execution": {
     "iopub.execute_input": "2025-06-13T16:33:05.962566Z",
     "iopub.status.busy": "2025-06-13T16:33:05.962057Z",
     "iopub.status.idle": "2025-06-13T16:33:07.918009Z",
     "shell.execute_reply": "2025-06-13T16:33:07.916799Z"
    },
    "papermill": {
     "duration": 1.961817,
     "end_time": "2025-06-13T16:33:07.919823",
     "exception": false,
     "start_time": "2025-06-13T16:33:05.958006",
     "status": "completed"
    },
    "tags": []
   },
   "outputs": [],
   "source": [
    "data=pd.read_csv(\"/kaggle/input/playground-series-s5e6/train.csv\")\n",
    "test_data=pd.read_csv(\"/kaggle/input/playground-series-s5e6/train.csv\")"
   ]
  },
  {
   "cell_type": "code",
   "execution_count": 3,
   "id": "7c792906",
   "metadata": {
    "execution": {
     "iopub.execute_input": "2025-06-13T16:33:07.926767Z",
     "iopub.status.busy": "2025-06-13T16:33:07.926427Z",
     "iopub.status.idle": "2025-06-13T16:33:09.209203Z",
     "shell.execute_reply": "2025-06-13T16:33:09.207761Z"
    },
    "papermill": {
     "duration": 1.28834,
     "end_time": "2025-06-13T16:33:09.211078",
     "exception": false,
     "start_time": "2025-06-13T16:33:07.922738",
     "status": "completed"
    },
    "tags": []
   },
   "outputs": [],
   "source": [
    "X=data.drop(columns='Fertilizer Name',axis=1)\n",
    "y=data['Fertilizer Name']\n",
    "X_test=test_data.copy()\n",
    "\n",
    "X_combined=pd.concat([X,X_test],axis=0)\n",
    "X_combined=pd.get_dummies(X_combined).astype(int)\n",
    "\n",
    "X=X_combined.iloc[:len(X), :]\n",
    "X_test=X_combined.iloc[len(X):, :]"
   ]
  },
  {
   "cell_type": "code",
   "execution_count": 4,
   "id": "3e6af058",
   "metadata": {
    "execution": {
     "iopub.execute_input": "2025-06-13T16:33:09.221828Z",
     "iopub.status.busy": "2025-06-13T16:33:09.220394Z",
     "iopub.status.idle": "2025-06-13T16:33:11.372168Z",
     "shell.execute_reply": "2025-06-13T16:33:11.371172Z"
    },
    "papermill": {
     "duration": 2.15813,
     "end_time": "2025-06-13T16:33:11.373941",
     "exception": false,
     "start_time": "2025-06-13T16:33:09.215811",
     "status": "completed"
    },
    "tags": []
   },
   "outputs": [],
   "source": [
    "from sklearn.preprocessing import LabelEncoder\n",
    "\n",
    "le_target = LabelEncoder()\n",
    "y_encoded = le_target.fit_transform(y)"
   ]
  },
  {
   "cell_type": "code",
   "execution_count": 5,
   "id": "a341de5f",
   "metadata": {
    "execution": {
     "iopub.execute_input": "2025-06-13T16:33:11.381001Z",
     "iopub.status.busy": "2025-06-13T16:33:11.380497Z",
     "iopub.status.idle": "2025-06-13T16:33:11.853351Z",
     "shell.execute_reply": "2025-06-13T16:33:11.852292Z"
    },
    "papermill": {
     "duration": 0.478449,
     "end_time": "2025-06-13T16:33:11.855239",
     "exception": false,
     "start_time": "2025-06-13T16:33:11.376790",
     "status": "completed"
    },
    "tags": []
   },
   "outputs": [],
   "source": [
    "from sklearn.model_selection import train_test_split\n",
    "X_train,X_val,y_train,y_val=train_test_split(X,y_encoded)"
   ]
  },
  {
   "cell_type": "code",
   "execution_count": 6,
   "id": "81b7e469",
   "metadata": {
    "execution": {
     "iopub.execute_input": "2025-06-13T16:33:11.862099Z",
     "iopub.status.busy": "2025-06-13T16:33:11.861756Z",
     "iopub.status.idle": "2025-06-13T16:33:42.416298Z",
     "shell.execute_reply": "2025-06-13T16:33:42.415255Z"
    },
    "papermill": {
     "duration": 30.563236,
     "end_time": "2025-06-13T16:33:42.421326",
     "exception": false,
     "start_time": "2025-06-13T16:33:11.858090",
     "status": "completed"
    },
    "tags": []
   },
   "outputs": [
    {
     "data": {
      "text/html": [
       "<style>#sk-container-id-1 {color: black;background-color: white;}#sk-container-id-1 pre{padding: 0;}#sk-container-id-1 div.sk-toggleable {background-color: white;}#sk-container-id-1 label.sk-toggleable__label {cursor: pointer;display: block;width: 100%;margin-bottom: 0;padding: 0.3em;box-sizing: border-box;text-align: center;}#sk-container-id-1 label.sk-toggleable__label-arrow:before {content: \"▸\";float: left;margin-right: 0.25em;color: #696969;}#sk-container-id-1 label.sk-toggleable__label-arrow:hover:before {color: black;}#sk-container-id-1 div.sk-estimator:hover label.sk-toggleable__label-arrow:before {color: black;}#sk-container-id-1 div.sk-toggleable__content {max-height: 0;max-width: 0;overflow: hidden;text-align: left;background-color: #f0f8ff;}#sk-container-id-1 div.sk-toggleable__content pre {margin: 0.2em;color: black;border-radius: 0.25em;background-color: #f0f8ff;}#sk-container-id-1 input.sk-toggleable__control:checked~div.sk-toggleable__content {max-height: 200px;max-width: 100%;overflow: auto;}#sk-container-id-1 input.sk-toggleable__control:checked~label.sk-toggleable__label-arrow:before {content: \"▾\";}#sk-container-id-1 div.sk-estimator input.sk-toggleable__control:checked~label.sk-toggleable__label {background-color: #d4ebff;}#sk-container-id-1 div.sk-label input.sk-toggleable__control:checked~label.sk-toggleable__label {background-color: #d4ebff;}#sk-container-id-1 input.sk-hidden--visually {border: 0;clip: rect(1px 1px 1px 1px);clip: rect(1px, 1px, 1px, 1px);height: 1px;margin: -1px;overflow: hidden;padding: 0;position: absolute;width: 1px;}#sk-container-id-1 div.sk-estimator {font-family: monospace;background-color: #f0f8ff;border: 1px dotted black;border-radius: 0.25em;box-sizing: border-box;margin-bottom: 0.5em;}#sk-container-id-1 div.sk-estimator:hover {background-color: #d4ebff;}#sk-container-id-1 div.sk-parallel-item::after {content: \"\";width: 100%;border-bottom: 1px solid gray;flex-grow: 1;}#sk-container-id-1 div.sk-label:hover label.sk-toggleable__label {background-color: #d4ebff;}#sk-container-id-1 div.sk-serial::before {content: \"\";position: absolute;border-left: 1px solid gray;box-sizing: border-box;top: 0;bottom: 0;left: 50%;z-index: 0;}#sk-container-id-1 div.sk-serial {display: flex;flex-direction: column;align-items: center;background-color: white;padding-right: 0.2em;padding-left: 0.2em;position: relative;}#sk-container-id-1 div.sk-item {position: relative;z-index: 1;}#sk-container-id-1 div.sk-parallel {display: flex;align-items: stretch;justify-content: center;background-color: white;position: relative;}#sk-container-id-1 div.sk-item::before, #sk-container-id-1 div.sk-parallel-item::before {content: \"\";position: absolute;border-left: 1px solid gray;box-sizing: border-box;top: 0;bottom: 0;left: 50%;z-index: -1;}#sk-container-id-1 div.sk-parallel-item {display: flex;flex-direction: column;z-index: 1;position: relative;background-color: white;}#sk-container-id-1 div.sk-parallel-item:first-child::after {align-self: flex-end;width: 50%;}#sk-container-id-1 div.sk-parallel-item:last-child::after {align-self: flex-start;width: 50%;}#sk-container-id-1 div.sk-parallel-item:only-child::after {width: 0;}#sk-container-id-1 div.sk-dashed-wrapped {border: 1px dashed gray;margin: 0 0.4em 0.5em 0.4em;box-sizing: border-box;padding-bottom: 0.4em;background-color: white;}#sk-container-id-1 div.sk-label label {font-family: monospace;font-weight: bold;display: inline-block;line-height: 1.2em;}#sk-container-id-1 div.sk-label-container {text-align: center;}#sk-container-id-1 div.sk-container {/* jupyter's `normalize.less` sets `[hidden] { display: none; }` but bootstrap.min.css set `[hidden] { display: none !important; }` so we also need the `!important` here to be able to override the default hidden behavior on the sphinx rendered scikit-learn.org. See: https://github.com/scikit-learn/scikit-learn/issues/21755 */display: inline-block !important;position: relative;}#sk-container-id-1 div.sk-text-repr-fallback {display: none;}</style><div id=\"sk-container-id-1\" class=\"sk-top-container\"><div class=\"sk-text-repr-fallback\"><pre>XGBClassifier(base_score=None, booster=None, callbacks=None,\n",
       "              colsample_bylevel=None, colsample_bynode=None,\n",
       "              colsample_bytree=None, device=None, early_stopping_rounds=None,\n",
       "              enable_categorical=False, eval_metric=None, feature_types=None,\n",
       "              gamma=None, grow_policy=None, importance_type=None,\n",
       "              interaction_constraints=None, learning_rate=None, max_bin=None,\n",
       "              max_cat_threshold=None, max_cat_to_onehot=None,\n",
       "              max_delta_step=None, max_depth=None, max_leaves=None,\n",
       "              min_child_weight=None, missing=nan, monotone_constraints=None,\n",
       "              multi_strategy=None, n_estimators=None, n_jobs=None,\n",
       "              num_parallel_tree=None, objective=&#x27;multi:softprob&#x27;, ...)</pre><b>In a Jupyter environment, please rerun this cell to show the HTML representation or trust the notebook. <br />On GitHub, the HTML representation is unable to render, please try loading this page with nbviewer.org.</b></div><div class=\"sk-container\" hidden><div class=\"sk-item\"><div class=\"sk-estimator sk-toggleable\"><input class=\"sk-toggleable__control sk-hidden--visually\" id=\"sk-estimator-id-1\" type=\"checkbox\" checked><label for=\"sk-estimator-id-1\" class=\"sk-toggleable__label sk-toggleable__label-arrow\">XGBClassifier</label><div class=\"sk-toggleable__content\"><pre>XGBClassifier(base_score=None, booster=None, callbacks=None,\n",
       "              colsample_bylevel=None, colsample_bynode=None,\n",
       "              colsample_bytree=None, device=None, early_stopping_rounds=None,\n",
       "              enable_categorical=False, eval_metric=None, feature_types=None,\n",
       "              gamma=None, grow_policy=None, importance_type=None,\n",
       "              interaction_constraints=None, learning_rate=None, max_bin=None,\n",
       "              max_cat_threshold=None, max_cat_to_onehot=None,\n",
       "              max_delta_step=None, max_depth=None, max_leaves=None,\n",
       "              min_child_weight=None, missing=nan, monotone_constraints=None,\n",
       "              multi_strategy=None, n_estimators=None, n_jobs=None,\n",
       "              num_parallel_tree=None, objective=&#x27;multi:softprob&#x27;, ...)</pre></div></div></div></div></div>"
      ],
      "text/plain": [
       "XGBClassifier(base_score=None, booster=None, callbacks=None,\n",
       "              colsample_bylevel=None, colsample_bynode=None,\n",
       "              colsample_bytree=None, device=None, early_stopping_rounds=None,\n",
       "              enable_categorical=False, eval_metric=None, feature_types=None,\n",
       "              gamma=None, grow_policy=None, importance_type=None,\n",
       "              interaction_constraints=None, learning_rate=None, max_bin=None,\n",
       "              max_cat_threshold=None, max_cat_to_onehot=None,\n",
       "              max_delta_step=None, max_depth=None, max_leaves=None,\n",
       "              min_child_weight=None, missing=nan, monotone_constraints=None,\n",
       "              multi_strategy=None, n_estimators=None, n_jobs=None,\n",
       "              num_parallel_tree=None, objective='multi:softprob', ...)"
      ]
     },
     "execution_count": 6,
     "metadata": {},
     "output_type": "execute_result"
    }
   ],
   "source": [
    "from xgboost import XGBClassifier\n",
    "\n",
    "model=XGBClassifier()\n",
    "model.fit(X_train,y_train)"
   ]
  },
  {
   "cell_type": "code",
   "execution_count": 7,
   "id": "76c1713c",
   "metadata": {
    "execution": {
     "iopub.execute_input": "2025-06-13T16:33:42.428728Z",
     "iopub.status.busy": "2025-06-13T16:33:42.428379Z",
     "iopub.status.idle": "2025-06-13T16:33:42.433867Z",
     "shell.execute_reply": "2025-06-13T16:33:42.432912Z"
    },
    "papermill": {
     "duration": 0.011473,
     "end_time": "2025-06-13T16:33:42.435885",
     "exception": false,
     "start_time": "2025-06-13T16:33:42.424412",
     "status": "completed"
    },
    "tags": []
   },
   "outputs": [],
   "source": [
    "def make_predictions(inputs, model):\n",
    "    probs = model.predict_proba(inputs)\n",
    "    top3_idx = np.argsort(probs, axis=1)[:, -3:][:, ::-1]\n",
    "    predictions = le_target.inverse_transform(top3_idx.ravel()).reshape(top3_idx.shape)\n",
    "    return predictions"
   ]
  },
  {
   "cell_type": "code",
   "execution_count": 8,
   "id": "857a412f",
   "metadata": {
    "execution": {
     "iopub.execute_input": "2025-06-13T16:33:42.443606Z",
     "iopub.status.busy": "2025-06-13T16:33:42.443190Z",
     "iopub.status.idle": "2025-06-13T16:33:43.992711Z",
     "shell.execute_reply": "2025-06-13T16:33:43.991002Z"
    },
    "papermill": {
     "duration": 1.556182,
     "end_time": "2025-06-13T16:33:43.995264",
     "exception": false,
     "start_time": "2025-06-13T16:33:42.439082",
     "status": "completed"
    },
    "tags": []
   },
   "outputs": [],
   "source": [
    "val_predictions = make_predictions(X_val, model)\n"
   ]
  },
  {
   "cell_type": "code",
   "execution_count": 9,
   "id": "bf889593",
   "metadata": {
    "execution": {
     "iopub.execute_input": "2025-06-13T16:33:44.003450Z",
     "iopub.status.busy": "2025-06-13T16:33:44.003082Z",
     "iopub.status.idle": "2025-06-13T16:33:44.011644Z",
     "shell.execute_reply": "2025-06-13T16:33:44.010349Z"
    },
    "papermill": {
     "duration": 0.014779,
     "end_time": "2025-06-13T16:33:44.013493",
     "exception": false,
     "start_time": "2025-06-13T16:33:43.998714",
     "status": "completed"
    },
    "tags": []
   },
   "outputs": [
    {
     "data": {
      "text/plain": [
       "array([['10-26-26', '14-35-14', '17-17-17'],\n",
       "       ['10-26-26', '14-35-14', '20-20'],\n",
       "       ['17-17-17', 'DAP', '14-35-14'],\n",
       "       ...,\n",
       "       ['28-28', '20-20', '10-26-26'],\n",
       "       ['28-28', 'Urea', '10-26-26'],\n",
       "       ['14-35-14', '10-26-26', '17-17-17']], dtype=object)"
      ]
     },
     "execution_count": 9,
     "metadata": {},
     "output_type": "execute_result"
    }
   ],
   "source": [
    "val_predictions\n"
   ]
  },
  {
   "cell_type": "code",
   "execution_count": 10,
   "id": "78f6e8f5",
   "metadata": {
    "execution": {
     "iopub.execute_input": "2025-06-13T16:33:44.021693Z",
     "iopub.status.busy": "2025-06-13T16:33:44.021336Z",
     "iopub.status.idle": "2025-06-13T16:33:52.504859Z",
     "shell.execute_reply": "2025-06-13T16:33:52.503757Z"
    },
    "papermill": {
     "duration": 8.489552,
     "end_time": "2025-06-13T16:33:52.506676",
     "exception": false,
     "start_time": "2025-06-13T16:33:44.017124",
     "status": "completed"
    },
    "tags": []
   },
   "outputs": [],
   "source": [
    "test_predictions = make_predictions(X_test, model)\n",
    "outputs = [' '.join(row) for row in test_predictions]\n",
    "\n",
    "submission = pd.DataFrame({\n",
    "    \"id\": test_data[\"id\"],\n",
    "    \"Fertilizer Name\": outputs\n",
    "})\n",
    "submission.to_csv(\"submission.csv\", index=False)"
   ]
  }
 ],
 "metadata": {
  "kaggle": {
   "accelerator": "none",
   "dataSources": [
    {
     "databundleVersionId": 12184666,
     "sourceId": 91717,
     "sourceType": "competition"
    }
   ],
   "dockerImageVersionId": 31040,
   "isGpuEnabled": false,
   "isInternetEnabled": true,
   "language": "python",
   "sourceType": "notebook"
  },
  "kernelspec": {
   "display_name": "Python 3",
   "language": "python",
   "name": "python3"
  },
  "language_info": {
   "codemirror_mode": {
    "name": "ipython",
    "version": 3
   },
   "file_extension": ".py",
   "mimetype": "text/x-python",
   "name": "python",
   "nbconvert_exporter": "python",
   "pygments_lexer": "ipython3",
   "version": "3.11.11"
  },
  "papermill": {
   "default_parameters": {},
   "duration": 55.536434,
   "end_time": "2025-06-13T16:33:53.332461",
   "environment_variables": {},
   "exception": null,
   "input_path": "__notebook__.ipynb",
   "output_path": "__notebook__.ipynb",
   "parameters": {},
   "start_time": "2025-06-13T16:32:57.796027",
   "version": "2.6.0"
  }
 },
 "nbformat": 4,
 "nbformat_minor": 5
}
